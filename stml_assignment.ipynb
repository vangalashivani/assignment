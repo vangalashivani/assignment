{
  "nbformat": 4,
  "nbformat_minor": 0,
  "metadata": {
    "colab": {
      "provenance": []
    },
    "kernelspec": {
      "name": "python3",
      "display_name": "Python 3"
    },
    "language_info": {
      "name": "python"
    }
  },
  "cells": [
    {
      "cell_type": "code",
      "execution_count": null,
      "metadata": {
        "colab": {
          "base_uri": "https://localhost:8080/",
          "height": 312
        },
        "id": "oCqk_CYq0Xpv",
        "outputId": "81572bab-f162-4fc3-b824-2e19cbb138f9"
      },
      "outputs": [
        {
          "output_type": "stream",
          "name": "stdout",
          "text": [
            "the least mean square error is 6448324939.318334 and the m and c values are 99\n"
          ]
        },
        {
          "output_type": "display_data",
          "data": {
            "text/plain": [
              "<Figure size 432x288 with 1 Axes>"
            ],
            "image/png": "[encoded data removed]"
          },
          "metadata": {
            "needs_background": "light"
          }
        }
      ],
      "source": [
        "import pandas as pd\n",
        "import numpy as np\n",
        "import matplotlib.pyplot as pt\n",
        "d=pd.read_csv(\"Salary_Data-1.csv\")\n",
        "d1=d.fillna(0)\n",
        "m,c=0,0\n",
        "y1=d1['YearsExperience']\n",
        "s1=d1['Salary']\n",
        "y=np.array(y1)\n",
        "s=np.array(s1)\n",
        "mse=[]\n",
        "me=[]\n",
        "yp=np.array(y1)\n",
        "def linear(m,c):\n",
        "  yp=m*y+c\n",
        "  mse.append(np.square(np.subtract(s,yp)))\n",
        "  me.append(np.mean(mse))\n",
        "for i in range(0,100):\n",
        "  linear(m+i,c+i)\n",
        "a=np.arange(0,100)\n",
        "pt.plot(a,me,color=\"blue\")\n",
        "pt.scatter(a,me,color=\"blue\")\n",
        "pt.title(\"salary graph\")\n",
        "pt.xlabel(\"year\")\n",
        "pt.ylabel(\"salary\")\n",
        "print(\"the least mean square error is\",min(me),\"and the m and c values are\",me.index(min(me)))"
      ]
    }
  ]
}